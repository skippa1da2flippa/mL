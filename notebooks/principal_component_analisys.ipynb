{
 "cells": [
  {
   "cell_type": "markdown",
   "metadata": {},
   "source": [
    "# PCA"
   ]
  },
  {
   "cell_type": "markdown",
   "metadata": {},
   "source": [
    "In this section all the written code is used to represent a PCA process via a class handler"
   ]
  },
  {
   "cell_type": "markdown",
   "metadata": {},
   "source": [
    "### Import"
   ]
  },
  {
   "cell_type": "markdown",
   "metadata": {},
   "source": [
    "Set up the needed libraries"
   ]
  },
  {
   "cell_type": "code",
   "execution_count": null,
   "metadata": {
    "pycharm": {
     "is_executing": true
    }
   },
   "outputs": [],
   "source": [
    "from sklearn.decomposition import PCA\n",
    "import pandas as pd\n",
    "import numpy as np\n",
    "import matplotlib.pyplot as plt"
   ]
  },
  {
   "cell_type": "markdown",
   "metadata": {},
   "source": [
    "### PCA features representation"
   ]
  },
  {
   "cell_type": "markdown",
   "metadata": {},
   "source": [
    "Create a function which can plot the explained variance of PCA"
   ]
  },
  {
   "cell_type": "code",
   "execution_count": 3,
   "metadata": {},
   "outputs": [],
   "source": [
    "def graphGenerator(pca):\n",
    "    # Bar plot of explained_variance\n",
    "    plt.bar(\n",
    "        range(1, len(pca.explained_variance_) + 1),\n",
    "        pca.explained_variance_\n",
    "    )\n",
    "\n",
    "    plt.xlabel('PCA Feature')\n",
    "    plt.ylabel('Explained variance')\n",
    "    plt.title('Feature Explained Variance')\n",
    "    plt.show()"
   ]
  },
  {
   "cell_type": "markdown",
   "metadata": {},
   "source": [
    "Create a class wrapping all the needed functionalities of a tunable PCA"
   ]
  },
  {
   "cell_type": "code",
   "execution_count": null,
   "metadata": {
    "pycharm": {
     "is_executing": true
    }
   },
   "outputs": [],
   "source": [
    "class PcaFeatsWrapper:\n",
    "\n",
    "    # initialize the object with the right bound (interval of dimensions)\n",
    "    def __int__(self, lowerBound: int = 2, upperBound: int = 200):\n",
    "        if upperBound > lowerBound > 0:\n",
    "            self.lowerBound: int = lowerBound\n",
    "            self.upperBound: int = upperBound\n",
    "        else:\n",
    "            self.lowerBound, self.upperBound = 2, 200\n",
    "\n",
    "    # generate a collection of dataset each of which is reduced to a d-dimensional space\n",
    "    def pcaIterable(self, dataSet: pd.DataFrame) -> np.ndarray[pd.DataFrame]:\n",
    "        pcasContainer: np.ndarray[pd.DataFrame] = np.array([])\n",
    "\n",
    "        for component in range(self.lowerBound, self.upperBound + 1):\n",
    "            # initialize PCA\n",
    "            tempPca = PCA(n_components=component)\n",
    "\n",
    "            # plot the explained variance graph\n",
    "            graphGenerator(tempPca)\n",
    "\n",
    "            # fit and transform data\n",
    "            pca_features = tempPca.fit_transform(dataSet)\n",
    "\n",
    "            # generate a new panda dataframe\n",
    "            tempPcaDf: pd.DataFrame = pd.DataFrame(\n",
    "                data=pca_features,\n",
    "                columns=[col for col in range(0, component)]\n",
    "            )\n",
    "\n",
    "            # append the new dataframe\n",
    "            pcasContainer = np.append(pcasContainer, tempPcaDf)\n",
    "\n",
    "        return pcasContainer"
   ]
  }
 ],
 "metadata": {
  "kernelspec": {
   "display_name": "Python 3 (ipykernel)",
   "language": "python",
   "name": "python3"
  },
  "language_info": {
   "codemirror_mode": {
    "name": "ipython",
    "version": 3
   },
   "file_extension": ".py",
   "mimetype": "text/x-python",
   "name": "python",
   "nbconvert_exporter": "python",
   "pygments_lexer": "ipython3",
   "version": "3.10.0"
  }
 },
 "nbformat": 4,
 "nbformat_minor": 1
}
