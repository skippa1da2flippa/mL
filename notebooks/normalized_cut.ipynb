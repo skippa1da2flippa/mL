{
 "cells": [
  {
   "cell_type": "markdown",
   "source": [
    "# Normalized Cut"
   ],
   "metadata": {
    "collapsed": false
   }
  },
  {
   "cell_type": "markdown",
   "source": [
    "A normalized cut model is developed in this section"
   ],
   "metadata": {
    "collapsed": false
   }
  },
  {
   "cell_type": "markdown",
   "source": [
    "### Import"
   ],
   "metadata": {
    "collapsed": false
   }
  },
  {
   "cell_type": "code",
   "execution_count": null,
   "outputs": [],
   "source": [
    "import numpy as np\n",
    "from numpy import ndarray\n",
    "import pandas as pd\n",
    "from sklearn.cluster import SpectralClustering\n",
    "from src.rand_index_cmpt import randIndexComputing"
   ],
   "metadata": {
    "collapsed": false
   }
  },
  {
   "cell_type": "markdown",
   "source": [
    "### K-Clusters tuning"
   ],
   "metadata": {
    "collapsed": false
   }
  },
  {
   "cell_type": "code",
   "execution_count": null,
   "outputs": [],
   "source": [
    "def normalizedCutTuning(X: pd.DataFrame, y: ndarray) -> tuple:\n",
    "    randomIndexes: ndarray[float] = np.array([])\n",
    "    nClusters: list[int] = [2, 5, 9, 20, 35, 55, 75, 100, 150]\n",
    "\n",
    "    for nCluster in nClusters:\n",
    "        tempSpectralClustering = SpectralClustering(n_clusters=nCluster)\n",
    "        tempPrediction = tempSpectralClustering.fit_predict(X)\n",
    "        randomIndexes = np.append(randomIndexes, randIndexComputing(y, tempPrediction))\n",
    "\n",
    "    return nClusters[np.argmax(randomIndexes)], randomIndexes"
   ],
   "metadata": {
    "collapsed": false
   }
  }
 ],
 "metadata": {
  "kernelspec": {
   "display_name": "Python 3",
   "language": "python",
   "name": "python3"
  },
  "language_info": {
   "codemirror_mode": {
    "name": "ipython",
    "version": 2
   },
   "file_extension": ".py",
   "mimetype": "text/x-python",
   "name": "python",
   "nbconvert_exporter": "python",
   "pygments_lexer": "ipython2",
   "version": "2.7.6"
  }
 },
 "nbformat": 4,
 "nbformat_minor": 0
}
