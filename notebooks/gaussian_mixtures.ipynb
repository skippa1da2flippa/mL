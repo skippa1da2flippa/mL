{
 "cells": [
  {
   "cell_type": "markdown",
   "metadata": {},
   "source": [
    "# Gaussian Mixtures"
   ]
  },
  {
   "cell_type": "markdown",
   "metadata": {},
   "source": [
    "In this section is implemented a Gaussian mixtures model using diagonal covariance matrix"
   ]
  },
  {
   "cell_type": "markdown",
   "metadata": {},
   "source": [
    "### Import"
   ]
  },
  {
   "cell_type": "code",
   "execution_count": null,
   "metadata": {},
   "outputs": [],
   "source": [
    "import pandas as pd\n",
    "from numpy import ndarray, array\n",
    "import numpy as np\n",
    "from sklearn.mixture import GaussianMixture\n",
    "from sklearn.mixture._base import BaseMixture\n",
    "from src.rand_index_cmpt import randIndexComputing"
   ]
  },
  {
   "cell_type": "markdown",
   "metadata": {},
   "source": [
    "### K-clusters tuning"
   ]
  },
  {
   "cell_type": "code",
   "execution_count": null,
   "metadata": {},
   "outputs": [],
   "source": [
    "# tuning process of k gaussian mixtures\n",
    "def tuning(X: pd.DataFrame, y: ndarray, returnBestModel: bool = False) -> tuple:\n",
    "    # initialize the possible candidates (number of clusters)\n",
    "    nClusters: list[int] = [2, 5, 9, 20, 35, 55, 75, 100, 150]\n",
    "\n",
    "    # generate k gaussian mixtures each of which with a different number of clusters\n",
    "    gaussianMixtures: list[BaseMixture] = [\n",
    "        GaussianMixture(\n",
    "            n_components=n_classes, covariance_type=\"diag\", random_state=1629\n",
    "        ) for n_classes in nClusters\n",
    "    ]\n",
    "\n",
    "    randomIndexes: ndarray = array([])\n",
    "\n",
    "    for idx in range(0, len(gaussianMixtures)):\n",
    "        # train the model\n",
    "        gaussianMixtures[idx].fit(X)\n",
    "\n",
    "        # see how the model doing with the training data\n",
    "        prediction = gaussianMixtures[idx].predict(X)\n",
    "\n",
    "        # compare the model prediction with the actual prediction and store it in a collection\n",
    "        randomIndexes = np.append(randomIndexes, randIndexComputing(y, prediction))\n",
    "\n",
    "    # find the index related to the max values\n",
    "    bestIdx = np.argmax(randomIndexes)\n",
    "\n",
    "    # find the right number of clusters\n",
    "    bestNClusters: int = nClusters[bestIdx]\n",
    "\n",
    "    # find the best model\n",
    "    bestModel: BaseMixture = gaussianMixtures[bestIdx]\n",
    "\n",
    "    # return a tuple containing the best number of clusters, all the random indexes and if required the best model\n",
    "    if not returnBestModel:\n",
    "        return bestNClusters, randomIndexes\n",
    "    else:\n",
    "        return bestNClusters, randomIndexes, bestModel"
   ]
  }
 ],
 "metadata": {
  "kernelspec": {
   "display_name": "Python 3 (ipykernel)",
   "language": "python",
   "name": "python3"
  },
  "language_info": {
   "codemirror_mode": {
    "name": "ipython",
    "version": 3
   },
   "file_extension": ".py",
   "mimetype": "text/x-python",
   "name": "python",
   "nbconvert_exporter": "python",
   "pygments_lexer": "ipython3",
   "version": "3.10.0"
  }
 },
 "nbformat": 4,
 "nbformat_minor": 1
}
