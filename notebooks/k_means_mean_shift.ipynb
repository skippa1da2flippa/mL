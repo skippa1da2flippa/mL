{
 "cells": [
  {
   "cell_type": "markdown",
   "source": [
    "# K-Means with mean shift technique"
   ],
   "metadata": {
    "collapsed": false
   }
  },
  {
   "cell_type": "markdown",
   "source": [
    "In this section is implemented a k-means model using mean shift technique to find the right cluster points"
   ],
   "metadata": {
    "collapsed": false
   }
  },
  {
   "cell_type": "markdown",
   "source": [
    "### Import"
   ],
   "metadata": {
    "collapsed": false
   }
  },
  {
   "cell_type": "code",
   "execution_count": null,
   "outputs": [],
   "source": [
    "from sklearn.cluster import MeanShift\n",
    "import numpy as np\n",
    "from numpy import ndarray\n",
    "from src.rand_index_cmpt import randIndexComputing"
   ],
   "metadata": {
    "collapsed": false
   }
  },
  {
   "cell_type": "markdown",
   "source": [
    "### Kernel width tuning"
   ],
   "metadata": {
    "collapsed": false
   }
  },
  {
   "cell_type": "code",
   "execution_count": null,
   "outputs": [],
   "source": [
    "def tuning(X_train, y_train) -> tuple:\n",
    "\n",
    "    randomIndexes: ndarray[float] = np.array([])\n",
    "\n",
    "    # generate the possible candidates for the kernel width\n",
    "    kernelWidths: list[float] = [1.25, 9.5, 30.75, 50.25, 70.5, 100.75, 200.25, 350.5]\n",
    "\n",
    "    # for each possible width compute the random index and append it to an array\n",
    "    for width in kernelWidths:\n",
    "\n",
    "        # initialize the model\n",
    "        tempMeanShift = MeanShift(bandwidth=width)\n",
    "\n",
    "        # fit the model\n",
    "        tempMeanShift.fit(X_train)\n",
    "\n",
    "        # check how it clusters the data\n",
    "        tempPrediction = tempMeanShift.predict(X_train)\n",
    "\n",
    "        # compute random index given the previous prediction and the actual labels\n",
    "        randomIndexes = np.append(randomIndexes, randIndexComputing(y_train, tempPrediction))\n",
    "\n",
    "    # return the best width paired with all the computed random indexes\n",
    "    return kernelWidths[np.argmax(randomIndexes)], randomIndexes\n",
    "\n"
   ],
   "metadata": {
    "collapsed": false
   }
  },
  {
   "cell_type": "markdown",
   "source": [
    "### Model instantiation and training"
   ],
   "metadata": {
    "collapsed": false
   }
  },
  {
   "cell_type": "markdown",
   "source": [
    "Initialize the new model with the best kernel width"
   ],
   "metadata": {
    "collapsed": false
   }
  },
  {
   "cell_type": "code",
   "execution_count": null,
   "outputs": [],
   "source": [],
   "metadata": {
    "collapsed": false
   }
  },
  {
   "cell_type": "markdown",
   "source": [
    "Generate the clusters"
   ],
   "metadata": {
    "collapsed": false
   }
  },
  {
   "cell_type": "code",
   "execution_count": null,
   "outputs": [],
   "source": [],
   "metadata": {
    "collapsed": false
   }
  }
 ],
 "metadata": {
  "kernelspec": {
   "display_name": "Python 3",
   "language": "python",
   "name": "python3"
  },
  "language_info": {
   "codemirror_mode": {
    "name": "ipython",
    "version": 2
   },
   "file_extension": ".py",
   "mimetype": "text/x-python",
   "name": "python",
   "nbconvert_exporter": "python",
   "pygments_lexer": "ipython2",
   "version": "2.7.6"
  }
 },
 "nbformat": 4,
 "nbformat_minor": 0
}
